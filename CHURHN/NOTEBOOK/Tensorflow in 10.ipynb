{
 "cells": [
  {
   "cell_type": "markdown",
   "metadata": {},
   "source": [
    "# 0. Import Data"
   ]
  },
  {
   "cell_type": "code",
   "execution_count": 1,
   "metadata": {},
   "outputs": [],
   "source": [
    "import pandas as pd\n",
    "from sklearn.model_selection import train_test_split"
   ]
  },
  {
   "cell_type": "code",
   "execution_count": 2,
   "metadata": {},
   "outputs": [],
   "source": [
    "df = pd.read_csv('Churn.csv')"
   ]
  },
  {
   "cell_type": "code",
   "execution_count": 3,
   "metadata": {},
   "outputs": [],
   "source": [
    "X = pd.get_dummies(df.drop(['Churn', 'Customer ID'], axis=1))\n",
    "y = df['Churn'].apply(lambda x: 1 if x=='Yes' else 0)"
   ]
  },
  {
   "cell_type": "code",
   "execution_count": 4,
   "metadata": {},
   "outputs": [],
   "source": [
    "X_train, X_test, y_train, y_test = train_test_split(X, y, test_size=.2)"
   ]
  },
  {
   "cell_type": "code",
   "execution_count": 5,
   "metadata": {},
   "outputs": [
    {
     "data": {
      "text/plain": [
       "4632    1\n",
       "3991    0\n",
       "3628    0\n",
       "5756    0\n",
       "317     0\n",
       "Name: Churn, dtype: int64"
      ]
     },
     "execution_count": 5,
     "metadata": {},
     "output_type": "execute_result"
    }
   ],
   "source": [
    "y_train.head()"
   ]
  },
  {
   "cell_type": "markdown",
   "metadata": {},
   "source": [
    "# 1. Import Dependencies"
   ]
  },
  {
   "cell_type": "code",
   "execution_count": 6,
   "metadata": {},
   "outputs": [
    {
     "name": "stdout",
     "output_type": "stream",
     "text": [
      "Requirement already satisfied: tensorflow in c:\\users\\antoi\\anaconda3\\nouveau dossier\\lib\\site-packages (2.13.0)\n",
      "Requirement already satisfied: tensorflow-intel==2.13.0 in c:\\users\\antoi\\anaconda3\\nouveau dossier\\lib\\site-packages (from tensorflow) (2.13.0)\n",
      "Requirement already satisfied: tensorflow-estimator<2.14,>=2.13.0 in c:\\users\\antoi\\anaconda3\\nouveau dossier\\lib\\site-packages (from tensorflow-intel==2.13.0->tensorflow) (2.13.0)\n",
      "Requirement already satisfied: google-pasta>=0.1.1 in c:\\users\\antoi\\anaconda3\\nouveau dossier\\lib\\site-packages (from tensorflow-intel==2.13.0->tensorflow) (0.2.0)\n",
      "Requirement already satisfied: opt-einsum>=2.3.2 in c:\\users\\antoi\\anaconda3\\nouveau dossier\\lib\\site-packages (from tensorflow-intel==2.13.0->tensorflow) (3.3.0)\n",
      "Requirement already satisfied: tensorflow-io-gcs-filesystem>=0.23.1 in c:\\users\\antoi\\anaconda3\\nouveau dossier\\lib\\site-packages (from tensorflow-intel==2.13.0->tensorflow) (0.31.0)\n",
      "Requirement already satisfied: setuptools in c:\\users\\antoi\\anaconda3\\nouveau dossier\\lib\\site-packages (from tensorflow-intel==2.13.0->tensorflow) (63.4.1)\n",
      "Requirement already satisfied: six>=1.12.0 in c:\\users\\antoi\\anaconda3\\nouveau dossier\\lib\\site-packages (from tensorflow-intel==2.13.0->tensorflow) (1.16.0)\n",
      "Requirement already satisfied: protobuf!=4.21.0,!=4.21.1,!=4.21.2,!=4.21.3,!=4.21.4,!=4.21.5,<5.0.0dev,>=3.20.3 in c:\\users\\antoi\\anaconda3\\nouveau dossier\\lib\\site-packages (from tensorflow-intel==2.13.0->tensorflow) (4.23.4)\n",
      "Requirement already satisfied: absl-py>=1.0.0 in c:\\users\\antoi\\anaconda3\\nouveau dossier\\lib\\site-packages (from tensorflow-intel==2.13.0->tensorflow) (1.4.0)\n",
      "Requirement already satisfied: termcolor>=1.1.0 in c:\\users\\antoi\\anaconda3\\nouveau dossier\\lib\\site-packages (from tensorflow-intel==2.13.0->tensorflow) (2.3.0)\n",
      "Requirement already satisfied: tensorboard<2.14,>=2.13 in c:\\users\\antoi\\anaconda3\\nouveau dossier\\lib\\site-packages (from tensorflow-intel==2.13.0->tensorflow) (2.13.0)\n",
      "Requirement already satisfied: gast<=0.4.0,>=0.2.1 in c:\\users\\antoi\\anaconda3\\nouveau dossier\\lib\\site-packages (from tensorflow-intel==2.13.0->tensorflow) (0.4.0)\n",
      "Requirement already satisfied: grpcio<2.0,>=1.24.3 in c:\\users\\antoi\\anaconda3\\nouveau dossier\\lib\\site-packages (from tensorflow-intel==2.13.0->tensorflow) (1.56.0)\n",
      "Requirement already satisfied: h5py>=2.9.0 in c:\\users\\antoi\\anaconda3\\nouveau dossier\\lib\\site-packages (from tensorflow-intel==2.13.0->tensorflow) (3.7.0)\n",
      "Requirement already satisfied: typing-extensions<4.6.0,>=3.6.6 in c:\\users\\antoi\\anaconda3\\nouveau dossier\\lib\\site-packages (from tensorflow-intel==2.13.0->tensorflow) (4.3.0)\n",
      "Requirement already satisfied: astunparse>=1.6.0 in c:\\users\\antoi\\anaconda3\\nouveau dossier\\lib\\site-packages (from tensorflow-intel==2.13.0->tensorflow) (1.6.3)\n",
      "Requirement already satisfied: flatbuffers>=23.1.21 in c:\\users\\antoi\\anaconda3\\nouveau dossier\\lib\\site-packages (from tensorflow-intel==2.13.0->tensorflow) (23.5.26)\n",
      "Requirement already satisfied: libclang>=13.0.0 in c:\\users\\antoi\\anaconda3\\nouveau dossier\\lib\\site-packages (from tensorflow-intel==2.13.0->tensorflow) (16.0.6)\n",
      "Requirement already satisfied: numpy<=1.24.3,>=1.22 in c:\\users\\antoi\\anaconda3\\nouveau dossier\\lib\\site-packages (from tensorflow-intel==2.13.0->tensorflow) (1.24.3)\n",
      "Requirement already satisfied: packaging in c:\\users\\antoi\\anaconda3\\nouveau dossier\\lib\\site-packages (from tensorflow-intel==2.13.0->tensorflow) (21.3)\n",
      "Requirement already satisfied: keras<2.14,>=2.13.1 in c:\\users\\antoi\\anaconda3\\nouveau dossier\\lib\\site-packages (from tensorflow-intel==2.13.0->tensorflow) (2.13.1)\n",
      "Requirement already satisfied: wrapt>=1.11.0 in c:\\users\\antoi\\anaconda3\\nouveau dossier\\lib\\site-packages (from tensorflow-intel==2.13.0->tensorflow) (1.14.1)\n",
      "Requirement already satisfied: wheel<1.0,>=0.23.0 in c:\\users\\antoi\\anaconda3\\nouveau dossier\\lib\\site-packages (from astunparse>=1.6.0->tensorflow-intel==2.13.0->tensorflow) (0.37.1)\n",
      "Requirement already satisfied: werkzeug>=1.0.1 in c:\\users\\antoi\\anaconda3\\nouveau dossier\\lib\\site-packages (from tensorboard<2.14,>=2.13->tensorflow-intel==2.13.0->tensorflow) (2.0.3)\n",
      "Requirement already satisfied: tensorboard-data-server<0.8.0,>=0.7.0 in c:\\users\\antoi\\anaconda3\\nouveau dossier\\lib\\site-packages (from tensorboard<2.14,>=2.13->tensorflow-intel==2.13.0->tensorflow) (0.7.1)\n",
      "Requirement already satisfied: requests<3,>=2.21.0 in c:\\users\\antoi\\anaconda3\\nouveau dossier\\lib\\site-packages (from tensorboard<2.14,>=2.13->tensorflow-intel==2.13.0->tensorflow) (2.28.1)\n",
      "Requirement already satisfied: google-auth<3,>=1.6.3 in c:\\users\\antoi\\anaconda3\\nouveau dossier\\lib\\site-packages (from tensorboard<2.14,>=2.13->tensorflow-intel==2.13.0->tensorflow) (2.22.0)\n",
      "Requirement already satisfied: markdown>=2.6.8 in c:\\users\\antoi\\anaconda3\\nouveau dossier\\lib\\site-packages (from tensorboard<2.14,>=2.13->tensorflow-intel==2.13.0->tensorflow) (3.3.4)\n",
      "Requirement already satisfied: google-auth-oauthlib<1.1,>=0.5 in c:\\users\\antoi\\anaconda3\\nouveau dossier\\lib\\site-packages (from tensorboard<2.14,>=2.13->tensorflow-intel==2.13.0->tensorflow) (1.0.0)\n",
      "Requirement already satisfied: pyparsing!=3.0.5,>=2.0.2 in c:\\users\\antoi\\anaconda3\\nouveau dossier\\lib\\site-packages (from packaging->tensorflow-intel==2.13.0->tensorflow) (3.0.9)\n",
      "Requirement already satisfied: pyasn1-modules>=0.2.1 in c:\\users\\antoi\\anaconda3\\nouveau dossier\\lib\\site-packages (from google-auth<3,>=1.6.3->tensorboard<2.14,>=2.13->tensorflow-intel==2.13.0->tensorflow) (0.2.8)\n",
      "Requirement already satisfied: rsa<5,>=3.1.4 in c:\\users\\antoi\\anaconda3\\nouveau dossier\\lib\\site-packages (from google-auth<3,>=1.6.3->tensorboard<2.14,>=2.13->tensorflow-intel==2.13.0->tensorflow) (4.9)\n",
      "Requirement already satisfied: urllib3<2.0 in c:\\users\\antoi\\anaconda3\\nouveau dossier\\lib\\site-packages (from google-auth<3,>=1.6.3->tensorboard<2.14,>=2.13->tensorflow-intel==2.13.0->tensorflow) (1.26.11)\n",
      "Requirement already satisfied: cachetools<6.0,>=2.0.0 in c:\\users\\antoi\\anaconda3\\nouveau dossier\\lib\\site-packages (from google-auth<3,>=1.6.3->tensorboard<2.14,>=2.13->tensorflow-intel==2.13.0->tensorflow) (5.3.1)\n",
      "Requirement already satisfied: requests-oauthlib>=0.7.0 in c:\\users\\antoi\\anaconda3\\nouveau dossier\\lib\\site-packages (from google-auth-oauthlib<1.1,>=0.5->tensorboard<2.14,>=2.13->tensorflow-intel==2.13.0->tensorflow) (1.3.1)\n",
      "Requirement already satisfied: certifi>=2017.4.17 in c:\\users\\antoi\\anaconda3\\nouveau dossier\\lib\\site-packages (from requests<3,>=2.21.0->tensorboard<2.14,>=2.13->tensorflow-intel==2.13.0->tensorflow) (2022.9.14)\n",
      "Requirement already satisfied: idna<4,>=2.5 in c:\\users\\antoi\\anaconda3\\nouveau dossier\\lib\\site-packages (from requests<3,>=2.21.0->tensorboard<2.14,>=2.13->tensorflow-intel==2.13.0->tensorflow) (3.3)\n",
      "Requirement already satisfied: charset-normalizer<3,>=2 in c:\\users\\antoi\\anaconda3\\nouveau dossier\\lib\\site-packages (from requests<3,>=2.21.0->tensorboard<2.14,>=2.13->tensorflow-intel==2.13.0->tensorflow) (2.0.4)\n",
      "Requirement already satisfied: pyasn1<0.5.0,>=0.4.6 in c:\\users\\antoi\\anaconda3\\nouveau dossier\\lib\\site-packages (from pyasn1-modules>=0.2.1->google-auth<3,>=1.6.3->tensorboard<2.14,>=2.13->tensorflow-intel==2.13.0->tensorflow) (0.4.8)\n",
      "Requirement already satisfied: oauthlib>=3.0.0 in c:\\users\\antoi\\anaconda3\\nouveau dossier\\lib\\site-packages (from requests-oauthlib>=0.7.0->google-auth-oauthlib<1.1,>=0.5->tensorboard<2.14,>=2.13->tensorflow-intel==2.13.0->tensorflow) (3.2.2)\n",
      "Note: you may need to restart the kernel to use updated packages.\n"
     ]
    }
   ],
   "source": [
    "pip install tensorflow"
   ]
  },
  {
   "cell_type": "code",
   "execution_count": 7,
   "metadata": {},
   "outputs": [],
   "source": [
    "from tensorflow.keras.models import Sequential, load_model\n",
    "from tensorflow.keras.layers import Dense\n",
    "from sklearn.metrics import accuracy_score"
   ]
  },
  {
   "cell_type": "markdown",
   "metadata": {},
   "source": [
    "# 2. Build and Compile Model"
   ]
  },
  {
   "cell_type": "code",
   "execution_count": 8,
   "metadata": {},
   "outputs": [],
   "source": [
    "model = Sequential()\n",
    "model.add(Dense(units=32, activation='relu', input_dim=len(X_train.columns)))\n",
    "model.add(Dense(units=64, activation='relu'))\n",
    "model.add(Dense(units=1, activation='sigmoid'))"
   ]
  },
  {
   "cell_type": "code",
   "execution_count": 17,
   "metadata": {},
   "outputs": [
    {
     "data": {
      "text/plain": [
       "'_________________________________________________________________\\nLayer (type)                 Output Shape              Param #   \\n=================================================================\\ndense (Dense)                (None, 32)                320       \\n_________________________________________________________________\\ndense_1 (Dense)              (None, 64)                2112      \\n_________________________________________________________________\\ndense_2 (Dense)              (None, 1)                 65        \\n=================================================================\\nTotal params: 2,497\\nTrainable params: 2,497\\nNon-trainable params: 0\\n_________________________________________________________________'"
      ]
     },
     "execution_count": 17,
     "metadata": {},
     "output_type": "execute_result"
    }
   ],
   "source": [
    "'''_________________________________________________________________\n",
    "Layer (type)                 Output Shape              Param #   \n",
    "=================================================================\n",
    "dense (Dense)                (None, 32)                320       \n",
    "_________________________________________________________________\n",
    "dense_1 (Dense)              (None, 64)                2112      \n",
    "_________________________________________________________________\n",
    "dense_2 (Dense)              (None, 1)                 65        \n",
    "=================================================================\n",
    "Total params: 2,497\n",
    "Trainable params: 2,497\n",
    "\n",
    "Non-trainable params: 0\n",
    "_________________________________________________________________'''"
   ]
  },
  {
   "cell_type": "code",
   "execution_count": 9,
   "metadata": {},
   "outputs": [],
   "source": [
    "model.compile(loss='binary_crossentropy', optimizer='sgd', metrics='accuracy')"
   ]
  },
  {
   "cell_type": "markdown",
   "metadata": {},
   "source": [
    "# 3. Fit, Predict and Evaluate"
   ]
  },
  {
   "cell_type": "code",
   "execution_count": 10,
   "metadata": {
    "collapsed": true
   },
   "outputs": [
    {
     "name": "stdout",
     "output_type": "stream",
     "text": [
      "Epoch 1/200\n",
      "177/177 [==============================] - 1s 2ms/step - loss: 0.5097 - accuracy: 0.7473\n",
      "Epoch 2/200\n",
      "177/177 [==============================] - 0s 2ms/step - loss: 0.4887 - accuracy: 0.7618\n",
      "Epoch 3/200\n",
      "177/177 [==============================] - 0s 2ms/step - loss: 0.4835 - accuracy: 0.7762\n",
      "Epoch 4/200\n",
      "177/177 [==============================] - 0s 2ms/step - loss: 0.4796 - accuracy: 0.7759\n",
      "Epoch 5/200\n",
      "177/177 [==============================] - 0s 2ms/step - loss: 0.4766 - accuracy: 0.7776\n",
      "Epoch 6/200\n",
      "177/177 [==============================] - 0s 2ms/step - loss: 0.4736 - accuracy: 0.7755\n",
      "Epoch 7/200\n",
      "177/177 [==============================] - 0s 2ms/step - loss: 0.4702 - accuracy: 0.7799\n",
      "Epoch 8/200\n",
      "177/177 [==============================] - 0s 2ms/step - loss: 0.4682 - accuracy: 0.7796\n",
      "Epoch 9/200\n",
      "177/177 [==============================] - 0s 2ms/step - loss: 0.4673 - accuracy: 0.7785\n",
      "Epoch 10/200\n",
      "177/177 [==============================] - 0s 2ms/step - loss: 0.4682 - accuracy: 0.7768\n",
      "Epoch 11/200\n",
      "177/177 [==============================] - 0s 2ms/step - loss: 0.4656 - accuracy: 0.7794\n",
      "Epoch 12/200\n",
      "177/177 [==============================] - 0s 2ms/step - loss: 0.4608 - accuracy: 0.7833\n",
      "Epoch 13/200\n",
      "177/177 [==============================] - 0s 2ms/step - loss: 0.4611 - accuracy: 0.7846\n",
      "Epoch 14/200\n",
      "177/177 [==============================] - 0s 2ms/step - loss: 0.4579 - accuracy: 0.7856\n",
      "Epoch 15/200\n",
      "177/177 [==============================] - 0s 2ms/step - loss: 0.4614 - accuracy: 0.7792\n",
      "Epoch 16/200\n",
      "177/177 [==============================] - 0s 2ms/step - loss: 0.4611 - accuracy: 0.7812\n",
      "Epoch 17/200\n",
      "177/177 [==============================] - 0s 2ms/step - loss: 0.4579 - accuracy: 0.7828\n",
      "Epoch 18/200\n",
      "177/177 [==============================] - 0s 2ms/step - loss: 0.4575 - accuracy: 0.7794\n",
      "Epoch 19/200\n",
      "177/177 [==============================] - 0s 2ms/step - loss: 0.4575 - accuracy: 0.7783\n",
      "Epoch 20/200\n",
      "177/177 [==============================] - 0s 2ms/step - loss: 0.4548 - accuracy: 0.7833\n",
      "Epoch 21/200\n",
      "177/177 [==============================] - 0s 2ms/step - loss: 0.4544 - accuracy: 0.7878\n",
      "Epoch 22/200\n",
      "177/177 [==============================] - 0s 2ms/step - loss: 0.4535 - accuracy: 0.7823\n",
      "Epoch 23/200\n",
      "177/177 [==============================] - 0s 2ms/step - loss: 0.4519 - accuracy: 0.7846\n",
      "Epoch 24/200\n",
      "177/177 [==============================] - 0s 2ms/step - loss: 0.4558 - accuracy: 0.7794\n",
      "Epoch 25/200\n",
      "177/177 [==============================] - 0s 2ms/step - loss: 0.4523 - accuracy: 0.7849\n",
      "Epoch 26/200\n",
      "177/177 [==============================] - 0s 2ms/step - loss: 0.4522 - accuracy: 0.7886\n",
      "Epoch 27/200\n",
      "177/177 [==============================] - 0s 2ms/step - loss: 0.4656 - accuracy: 0.7780\n",
      "Epoch 28/200\n",
      "177/177 [==============================] - 0s 2ms/step - loss: 0.4554 - accuracy: 0.7858\n",
      "Epoch 29/200\n",
      "177/177 [==============================] - 0s 2ms/step - loss: 0.4545 - accuracy: 0.7824\n",
      "Epoch 30/200\n",
      "177/177 [==============================] - 0s 2ms/step - loss: 0.4542 - accuracy: 0.7837\n",
      "Epoch 31/200\n",
      "177/177 [==============================] - 0s 2ms/step - loss: 0.4525 - accuracy: 0.7815\n",
      "Epoch 32/200\n",
      "177/177 [==============================] - 0s 2ms/step - loss: 0.4524 - accuracy: 0.7828\n",
      "Epoch 33/200\n",
      "177/177 [==============================] - 0s 3ms/step - loss: 0.4537 - accuracy: 0.7821\n",
      "Epoch 34/200\n",
      "177/177 [==============================] - 0s 2ms/step - loss: 0.4509 - accuracy: 0.7839\n",
      "Epoch 35/200\n",
      "177/177 [==============================] - 0s 3ms/step - loss: 0.4513 - accuracy: 0.7870\n",
      "Epoch 36/200\n",
      "177/177 [==============================] - 0s 2ms/step - loss: 0.4512 - accuracy: 0.7823\n",
      "Epoch 37/200\n",
      "177/177 [==============================] - 0s 2ms/step - loss: 0.4531 - accuracy: 0.7837\n",
      "Epoch 38/200\n",
      "177/177 [==============================] - 0s 2ms/step - loss: 0.4504 - accuracy: 0.7844\n",
      "Epoch 39/200\n",
      "177/177 [==============================] - 0s 3ms/step - loss: 0.4506 - accuracy: 0.7799\n",
      "Epoch 40/200\n",
      "177/177 [==============================] - 0s 2ms/step - loss: 0.4483 - accuracy: 0.7901\n",
      "Epoch 41/200\n",
      "177/177 [==============================] - 0s 2ms/step - loss: 0.4482 - accuracy: 0.7879\n",
      "Epoch 42/200\n",
      "177/177 [==============================] - 0s 3ms/step - loss: 0.4487 - accuracy: 0.7872\n",
      "Epoch 43/200\n",
      "177/177 [==============================] - 0s 2ms/step - loss: 0.4483 - accuracy: 0.7860\n",
      "Epoch 44/200\n",
      "177/177 [==============================] - 0s 2ms/step - loss: 0.4479 - accuracy: 0.7870\n",
      "Epoch 45/200\n",
      "177/177 [==============================] - 0s 3ms/step - loss: 0.4488 - accuracy: 0.7881\n",
      "Epoch 46/200\n",
      "177/177 [==============================] - 0s 2ms/step - loss: 0.4498 - accuracy: 0.7824\n",
      "Epoch 47/200\n",
      "177/177 [==============================] - 0s 2ms/step - loss: 0.4521 - accuracy: 0.7812\n",
      "Epoch 48/200\n",
      "177/177 [==============================] - 0s 2ms/step - loss: 0.4493 - accuracy: 0.7856\n",
      "Epoch 49/200\n",
      "177/177 [==============================] - 0s 3ms/step - loss: 0.4503 - accuracy: 0.7830\n",
      "Epoch 50/200\n",
      "177/177 [==============================] - 0s 2ms/step - loss: 0.4509 - accuracy: 0.7856\n",
      "Epoch 51/200\n",
      "177/177 [==============================] - 0s 3ms/step - loss: 0.4482 - accuracy: 0.7853\n",
      "Epoch 52/200\n",
      "177/177 [==============================] - 0s 2ms/step - loss: 0.4523 - accuracy: 0.7831\n",
      "Epoch 53/200\n",
      "177/177 [==============================] - 0s 2ms/step - loss: 0.4465 - accuracy: 0.7837\n",
      "Epoch 54/200\n",
      "177/177 [==============================] - 0s 2ms/step - loss: 0.4530 - accuracy: 0.7826\n",
      "Epoch 55/200\n",
      "177/177 [==============================] - 0s 3ms/step - loss: 0.4452 - accuracy: 0.7863\n",
      "Epoch 56/200\n",
      "177/177 [==============================] - 0s 2ms/step - loss: 0.4463 - accuracy: 0.7888\n",
      "Epoch 57/200\n",
      "177/177 [==============================] - 0s 3ms/step - loss: 0.4456 - accuracy: 0.7879\n",
      "Epoch 58/200\n",
      "177/177 [==============================] - 0s 2ms/step - loss: 0.4464 - accuracy: 0.7886\n",
      "Epoch 59/200\n",
      "177/177 [==============================] - 0s 2ms/step - loss: 0.4475 - accuracy: 0.7899\n",
      "Epoch 60/200\n",
      "177/177 [==============================] - 0s 2ms/step - loss: 0.4444 - accuracy: 0.7860\n",
      "Epoch 61/200\n",
      "177/177 [==============================] - 0s 2ms/step - loss: 0.4467 - accuracy: 0.7839\n",
      "Epoch 62/200\n",
      "177/177 [==============================] - 0s 2ms/step - loss: 0.4453 - accuracy: 0.7860\n",
      "Epoch 63/200\n",
      "177/177 [==============================] - 0s 3ms/step - loss: 0.4445 - accuracy: 0.7872\n",
      "Epoch 64/200\n",
      "177/177 [==============================] - 0s 2ms/step - loss: 0.4471 - accuracy: 0.7858\n",
      "Epoch 65/200\n",
      "177/177 [==============================] - 0s 2ms/step - loss: 0.4443 - accuracy: 0.7894\n",
      "Epoch 66/200\n",
      "177/177 [==============================] - 0s 3ms/step - loss: 0.4448 - accuracy: 0.7888\n",
      "Epoch 67/200\n",
      "177/177 [==============================] - 0s 2ms/step - loss: 0.4453 - accuracy: 0.7833\n",
      "Epoch 68/200\n",
      "177/177 [==============================] - 0s 2ms/step - loss: 0.4420 - accuracy: 0.7892\n",
      "Epoch 69/200\n",
      "177/177 [==============================] - 1s 3ms/step - loss: 0.4411 - accuracy: 0.7878\n",
      "Epoch 70/200\n",
      "177/177 [==============================] - 1s 3ms/step - loss: 0.4462 - accuracy: 0.7830\n",
      "Epoch 71/200\n",
      "177/177 [==============================] - 1s 3ms/step - loss: 0.4415 - accuracy: 0.7853\n",
      "Epoch 72/200\n",
      "177/177 [==============================] - 0s 3ms/step - loss: 0.4409 - accuracy: 0.7878\n",
      "Epoch 73/200\n",
      "177/177 [==============================] - 1s 3ms/step - loss: 0.4436 - accuracy: 0.7853\n",
      "Epoch 74/200\n",
      "177/177 [==============================] - 0s 3ms/step - loss: 0.4424 - accuracy: 0.7890\n",
      "Epoch 75/200\n",
      "177/177 [==============================] - 0s 3ms/step - loss: 0.4419 - accuracy: 0.7892\n",
      "Epoch 76/200\n",
      "177/177 [==============================] - 0s 2ms/step - loss: 0.4389 - accuracy: 0.7879\n",
      "Epoch 77/200\n",
      "177/177 [==============================] - 0s 3ms/step - loss: 0.4428 - accuracy: 0.7925\n",
      "Epoch 78/200\n",
      "177/177 [==============================] - 0s 3ms/step - loss: 0.4378 - accuracy: 0.7927\n",
      "Epoch 79/200\n",
      "177/177 [==============================] - 0s 3ms/step - loss: 0.4388 - accuracy: 0.7954\n",
      "Epoch 80/200\n",
      "177/177 [==============================] - 0s 3ms/step - loss: 0.4417 - accuracy: 0.7862\n",
      "Epoch 81/200\n",
      "177/177 [==============================] - 0s 3ms/step - loss: 0.4351 - accuracy: 0.7931\n",
      "Epoch 82/200\n",
      "177/177 [==============================] - 1s 3ms/step - loss: 0.4408 - accuracy: 0.7897\n",
      "Epoch 83/200\n",
      "177/177 [==============================] - 1s 3ms/step - loss: 0.4401 - accuracy: 0.7947\n",
      "Epoch 84/200\n",
      "177/177 [==============================] - 1s 3ms/step - loss: 0.4390 - accuracy: 0.7913\n",
      "Epoch 85/200\n",
      "177/177 [==============================] - 1s 3ms/step - loss: 0.4394 - accuracy: 0.7904\n",
      "Epoch 86/200\n",
      "177/177 [==============================] - 0s 2ms/step - loss: 0.4368 - accuracy: 0.7925\n",
      "Epoch 87/200\n",
      "177/177 [==============================] - 0s 3ms/step - loss: 0.4378 - accuracy: 0.7917\n",
      "Epoch 88/200\n",
      "177/177 [==============================] - 0s 3ms/step - loss: 0.4441 - accuracy: 0.7853\n",
      "Epoch 89/200\n",
      "177/177 [==============================] - 0s 2ms/step - loss: 0.4376 - accuracy: 0.7885\n",
      "Epoch 90/200\n",
      "177/177 [==============================] - 0s 2ms/step - loss: 0.4381 - accuracy: 0.7899\n",
      "Epoch 91/200\n",
      "177/177 [==============================] - 0s 2ms/step - loss: 0.4408 - accuracy: 0.7922\n",
      "Epoch 92/200\n",
      "177/177 [==============================] - 0s 2ms/step - loss: 0.4381 - accuracy: 0.7894\n",
      "Epoch 93/200\n",
      "177/177 [==============================] - 0s 3ms/step - loss: 0.4379 - accuracy: 0.7899\n",
      "Epoch 94/200\n",
      "177/177 [==============================] - 0s 3ms/step - loss: 0.4407 - accuracy: 0.7876\n",
      "Epoch 95/200\n",
      "177/177 [==============================] - 0s 2ms/step - loss: 0.4358 - accuracy: 0.7931\n",
      "Epoch 96/200\n",
      "177/177 [==============================] - 0s 2ms/step - loss: 0.4437 - accuracy: 0.7867\n",
      "Epoch 97/200\n",
      "177/177 [==============================] - 0s 2ms/step - loss: 0.4391 - accuracy: 0.7883\n",
      "Epoch 98/200\n",
      "177/177 [==============================] - 0s 3ms/step - loss: 0.4357 - accuracy: 0.7899\n",
      "Epoch 99/200\n",
      "177/177 [==============================] - 0s 2ms/step - loss: 0.4366 - accuracy: 0.7933\n",
      "Epoch 100/200\n",
      "177/177 [==============================] - 0s 2ms/step - loss: 0.4376 - accuracy: 0.7894\n",
      "Epoch 101/200\n",
      "177/177 [==============================] - 0s 2ms/step - loss: 0.4360 - accuracy: 0.7934\n",
      "Epoch 102/200\n",
      "177/177 [==============================] - 1s 4ms/step - loss: 0.4385 - accuracy: 0.7878\n",
      "Epoch 103/200\n",
      "177/177 [==============================] - 1s 3ms/step - loss: 0.4358 - accuracy: 0.7895\n",
      "Epoch 104/200\n",
      "177/177 [==============================] - 0s 3ms/step - loss: 0.4360 - accuracy: 0.7922\n",
      "Epoch 105/200\n",
      "177/177 [==============================] - 0s 2ms/step - loss: 0.4377 - accuracy: 0.7947\n",
      "Epoch 106/200\n",
      "177/177 [==============================] - 0s 2ms/step - loss: 0.4371 - accuracy: 0.7901\n",
      "Epoch 107/200\n",
      "177/177 [==============================] - 0s 2ms/step - loss: 0.4332 - accuracy: 0.8005\n",
      "Epoch 108/200\n",
      "177/177 [==============================] - 0s 2ms/step - loss: 0.4332 - accuracy: 0.7956\n",
      "Epoch 109/200\n",
      "177/177 [==============================] - 1s 3ms/step - loss: 0.4374 - accuracy: 0.7902\n",
      "Epoch 110/200\n",
      "177/177 [==============================] - 0s 2ms/step - loss: 0.4364 - accuracy: 0.7906\n",
      "Epoch 111/200\n",
      "177/177 [==============================] - 0s 2ms/step - loss: 0.4340 - accuracy: 0.7949\n",
      "Epoch 112/200\n",
      "177/177 [==============================] - 0s 2ms/step - loss: 0.4347 - accuracy: 0.7961\n",
      "Epoch 113/200\n",
      "177/177 [==============================] - 0s 2ms/step - loss: 0.4377 - accuracy: 0.7878\n",
      "Epoch 114/200\n",
      "177/177 [==============================] - 1s 3ms/step - loss: 0.4337 - accuracy: 0.7915\n",
      "Epoch 115/200\n",
      "177/177 [==============================] - 0s 2ms/step - loss: 0.4346 - accuracy: 0.7922\n",
      "Epoch 116/200\n",
      "177/177 [==============================] - 0s 2ms/step - loss: 0.4333 - accuracy: 0.7934\n",
      "Epoch 117/200\n",
      "177/177 [==============================] - 0s 2ms/step - loss: 0.4354 - accuracy: 0.7892\n",
      "Epoch 118/200\n",
      "177/177 [==============================] - 0s 2ms/step - loss: 0.4340 - accuracy: 0.7931\n",
      "Epoch 119/200\n",
      "177/177 [==============================] - 1s 3ms/step - loss: 0.4347 - accuracy: 0.7895\n",
      "Epoch 120/200\n",
      "177/177 [==============================] - 0s 2ms/step - loss: 0.4311 - accuracy: 0.7972\n",
      "Epoch 121/200\n",
      "177/177 [==============================] - 0s 2ms/step - loss: 0.4324 - accuracy: 0.7980\n",
      "Epoch 122/200\n",
      "177/177 [==============================] - 0s 2ms/step - loss: 0.4351 - accuracy: 0.7908\n",
      "Epoch 123/200\n",
      "177/177 [==============================] - 0s 2ms/step - loss: 0.4325 - accuracy: 0.7954\n",
      "Epoch 124/200\n",
      "177/177 [==============================] - 0s 2ms/step - loss: 0.4321 - accuracy: 0.7954\n",
      "Epoch 125/200\n",
      "177/177 [==============================] - 0s 3ms/step - loss: 0.4310 - accuracy: 0.7959\n",
      "Epoch 126/200\n",
      "177/177 [==============================] - 0s 2ms/step - loss: 0.4309 - accuracy: 0.7922\n",
      "Epoch 127/200\n",
      "177/177 [==============================] - 0s 2ms/step - loss: 0.4326 - accuracy: 0.7957\n",
      "Epoch 128/200\n",
      "177/177 [==============================] - 0s 2ms/step - loss: 0.4313 - accuracy: 0.7943\n",
      "Epoch 129/200\n",
      "177/177 [==============================] - 0s 3ms/step - loss: 0.4306 - accuracy: 0.7982\n",
      "Epoch 130/200\n",
      "177/177 [==============================] - 0s 2ms/step - loss: 0.4304 - accuracy: 0.7906\n",
      "Epoch 131/200\n",
      "177/177 [==============================] - 0s 2ms/step - loss: 0.4322 - accuracy: 0.7920\n",
      "Epoch 132/200\n",
      "177/177 [==============================] - 0s 2ms/step - loss: 0.4346 - accuracy: 0.7945\n",
      "Epoch 133/200\n",
      "177/177 [==============================] - 0s 2ms/step - loss: 0.4278 - accuracy: 0.7982\n",
      "Epoch 134/200\n",
      "177/177 [==============================] - 0s 2ms/step - loss: 0.4333 - accuracy: 0.7965\n",
      "Epoch 135/200\n",
      "177/177 [==============================] - 0s 3ms/step - loss: 0.4330 - accuracy: 0.7911\n",
      "Epoch 136/200\n",
      "177/177 [==============================] - 0s 2ms/step - loss: 0.4326 - accuracy: 0.7973\n",
      "Epoch 137/200\n",
      "177/177 [==============================] - 0s 2ms/step - loss: 0.4309 - accuracy: 0.7913\n",
      "Epoch 138/200\n",
      "177/177 [==============================] - 0s 3ms/step - loss: 0.4317 - accuracy: 0.7968\n",
      "Epoch 139/200\n",
      "177/177 [==============================] - 1s 3ms/step - loss: 0.4328 - accuracy: 0.7956\n",
      "Epoch 140/200\n",
      "177/177 [==============================] - 1s 6ms/step - loss: 0.4308 - accuracy: 0.7982\n",
      "Epoch 141/200\n",
      "177/177 [==============================] - 1s 5ms/step - loss: 0.4299 - accuracy: 0.7980\n",
      "Epoch 142/200\n",
      "177/177 [==============================] - 1s 5ms/step - loss: 0.4338 - accuracy: 0.7959\n",
      "Epoch 143/200\n",
      "177/177 [==============================] - 1s 4ms/step - loss: 0.4355 - accuracy: 0.7917\n",
      "Epoch 144/200\n",
      "177/177 [==============================] - 1s 4ms/step - loss: 0.4299 - accuracy: 0.7931\n",
      "Epoch 145/200\n",
      "177/177 [==============================] - 1s 4ms/step - loss: 0.4313 - accuracy: 0.7915\n",
      "Epoch 146/200\n",
      "177/177 [==============================] - 1s 3ms/step - loss: 0.4318 - accuracy: 0.7934\n",
      "Epoch 147/200\n",
      "177/177 [==============================] - 1s 4ms/step - loss: 0.4287 - accuracy: 0.7961\n",
      "Epoch 148/200\n",
      "177/177 [==============================] - 1s 4ms/step - loss: 0.4281 - accuracy: 0.7973\n",
      "Epoch 149/200\n",
      "177/177 [==============================] - 1s 3ms/step - loss: 0.4313 - accuracy: 0.7959\n",
      "Epoch 150/200\n",
      "177/177 [==============================] - 1s 4ms/step - loss: 0.4303 - accuracy: 0.7936\n",
      "Epoch 151/200\n",
      "177/177 [==============================] - 1s 4ms/step - loss: 0.4293 - accuracy: 0.7945\n",
      "Epoch 152/200\n",
      "177/177 [==============================] - 1s 4ms/step - loss: 0.4320 - accuracy: 0.7941\n",
      "Epoch 153/200\n",
      "177/177 [==============================] - 0s 3ms/step - loss: 0.4307 - accuracy: 0.7941\n",
      "Epoch 154/200\n",
      "177/177 [==============================] - 0s 2ms/step - loss: 0.4296 - accuracy: 0.7949\n",
      "Epoch 155/200\n",
      "177/177 [==============================] - 0s 3ms/step - loss: 0.4302 - accuracy: 0.7920\n",
      "Epoch 156/200\n",
      "177/177 [==============================] - 1s 3ms/step - loss: 0.4278 - accuracy: 0.7982\n",
      "Epoch 157/200\n",
      "177/177 [==============================] - 1s 3ms/step - loss: 0.4278 - accuracy: 0.7984\n",
      "Epoch 158/200\n",
      "177/177 [==============================] - 1s 3ms/step - loss: 0.4295 - accuracy: 0.7933\n",
      "Epoch 159/200\n",
      "177/177 [==============================] - 1s 3ms/step - loss: 0.4303 - accuracy: 0.7954\n",
      "Epoch 160/200\n",
      "177/177 [==============================] - 0s 2ms/step - loss: 0.4335 - accuracy: 0.7931\n",
      "Epoch 161/200\n",
      "177/177 [==============================] - 1s 3ms/step - loss: 0.4322 - accuracy: 0.7973\n",
      "Epoch 162/200\n",
      "177/177 [==============================] - 0s 2ms/step - loss: 0.4281 - accuracy: 0.7996\n",
      "Epoch 163/200\n",
      "177/177 [==============================] - 0s 2ms/step - loss: 0.4302 - accuracy: 0.7998\n",
      "Epoch 164/200\n",
      "177/177 [==============================] - 0s 3ms/step - loss: 0.4283 - accuracy: 0.7963\n",
      "Epoch 165/200\n",
      "177/177 [==============================] - 1s 3ms/step - loss: 0.4284 - accuracy: 0.7933\n",
      "Epoch 166/200\n",
      "177/177 [==============================] - 0s 2ms/step - loss: 0.4290 - accuracy: 0.7954\n",
      "Epoch 167/200\n",
      "177/177 [==============================] - 0s 3ms/step - loss: 0.4296 - accuracy: 0.7934\n",
      "Epoch 168/200\n",
      "177/177 [==============================] - 0s 3ms/step - loss: 0.4294 - accuracy: 0.7906\n",
      "Epoch 169/200\n",
      "177/177 [==============================] - 0s 2ms/step - loss: 0.4285 - accuracy: 0.7966\n",
      "Epoch 170/200\n",
      "177/177 [==============================] - 0s 3ms/step - loss: 0.4279 - accuracy: 0.7959\n",
      "Epoch 171/200\n",
      "177/177 [==============================] - 0s 3ms/step - loss: 0.4269 - accuracy: 0.7970\n",
      "Epoch 172/200\n",
      "177/177 [==============================] - 0s 2ms/step - loss: 0.4278 - accuracy: 0.7979\n",
      "Epoch 173/200\n",
      "177/177 [==============================] - 0s 2ms/step - loss: 0.4275 - accuracy: 0.7986\n",
      "Epoch 174/200\n",
      "177/177 [==============================] - 1s 3ms/step - loss: 0.4277 - accuracy: 0.7931\n",
      "Epoch 175/200\n",
      "177/177 [==============================] - 0s 3ms/step - loss: 0.4290 - accuracy: 0.7982\n",
      "Epoch 176/200\n",
      "177/177 [==============================] - 0s 2ms/step - loss: 0.4284 - accuracy: 0.7934\n",
      "Epoch 177/200\n",
      "177/177 [==============================] - 0s 3ms/step - loss: 0.4272 - accuracy: 0.8007\n",
      "Epoch 178/200\n",
      "177/177 [==============================] - 1s 3ms/step - loss: 0.4251 - accuracy: 0.7972\n",
      "Epoch 179/200\n",
      "177/177 [==============================] - 1s 3ms/step - loss: 0.4280 - accuracy: 0.7980\n",
      "Epoch 180/200\n",
      "177/177 [==============================] - 0s 3ms/step - loss: 0.4289 - accuracy: 0.7984\n",
      "Epoch 181/200\n",
      "177/177 [==============================] - 0s 3ms/step - loss: 0.4240 - accuracy: 0.8020\n",
      "Epoch 182/200\n",
      "177/177 [==============================] - 1s 4ms/step - loss: 0.4283 - accuracy: 0.7965\n",
      "Epoch 183/200\n",
      "177/177 [==============================] - 1s 3ms/step - loss: 0.4270 - accuracy: 0.7970\n",
      "Epoch 184/200\n",
      "177/177 [==============================] - 0s 3ms/step - loss: 0.4248 - accuracy: 0.7972\n",
      "Epoch 185/200\n",
      "177/177 [==============================] - 0s 3ms/step - loss: 0.4310 - accuracy: 0.7961\n",
      "Epoch 186/200\n",
      "177/177 [==============================] - 0s 3ms/step - loss: 0.4253 - accuracy: 0.7989\n",
      "Epoch 187/200\n",
      "177/177 [==============================] - 1s 3ms/step - loss: 0.4269 - accuracy: 0.7957\n",
      "Epoch 188/200\n",
      "177/177 [==============================] - 0s 3ms/step - loss: 0.4307 - accuracy: 0.7927\n",
      "Epoch 189/200\n",
      "177/177 [==============================] - 0s 3ms/step - loss: 0.4252 - accuracy: 0.7980\n",
      "Epoch 190/200\n",
      "177/177 [==============================] - 1s 3ms/step - loss: 0.4253 - accuracy: 0.7979\n",
      "Epoch 191/200\n",
      "177/177 [==============================] - 1s 3ms/step - loss: 0.4280 - accuracy: 0.7963\n",
      "Epoch 192/200\n",
      "177/177 [==============================] - 1s 3ms/step - loss: 0.4284 - accuracy: 0.7966\n",
      "Epoch 193/200\n",
      "177/177 [==============================] - 1s 4ms/step - loss: 0.4272 - accuracy: 0.7984\n",
      "Epoch 194/200\n",
      "177/177 [==============================] - 1s 4ms/step - loss: 0.4256 - accuracy: 0.7977\n",
      "Epoch 195/200\n",
      "177/177 [==============================] - 1s 4ms/step - loss: 0.4257 - accuracy: 0.8011\n",
      "Epoch 196/200\n",
      "177/177 [==============================] - 1s 3ms/step - loss: 0.4213 - accuracy: 0.7972\n",
      "Epoch 197/200\n",
      "177/177 [==============================] - 1s 4ms/step - loss: 0.4257 - accuracy: 0.7966\n",
      "Epoch 198/200\n",
      "177/177 [==============================] - 1s 4ms/step - loss: 0.4261 - accuracy: 0.7984\n",
      "Epoch 199/200\n",
      "177/177 [==============================] - 1s 3ms/step - loss: 0.4238 - accuracy: 0.7970\n",
      "Epoch 200/200\n",
      "177/177 [==============================] - 1s 4ms/step - loss: 0.4255 - accuracy: 0.7943\n"
     ]
    },
    {
     "data": {
      "text/plain": [
       "<keras.src.callbacks.History at 0x1d663e0b2e0>"
      ]
     },
     "execution_count": 10,
     "metadata": {},
     "output_type": "execute_result"
    }
   ],
   "source": [
    "model.fit(X_train, y_train, epochs=200, batch_size=32)"
   ]
  },
  {
   "cell_type": "code",
   "execution_count": 11,
   "metadata": {},
   "outputs": [
    {
     "name": "stdout",
     "output_type": "stream",
     "text": [
      "45/45 [==============================] - 0s 1ms/step\n"
     ]
    }
   ],
   "source": [
    "y_hat = model.predict(X_test)\n",
    "y_hat = [0 if val < 0.5 else 1 for val in y_hat]"
   ]
  },
  {
   "cell_type": "code",
   "execution_count": 12,
   "metadata": {},
   "outputs": [
    {
     "data": {
      "text/plain": [
       "0.801277501774308"
      ]
     },
     "execution_count": 12,
     "metadata": {},
     "output_type": "execute_result"
    }
   ],
   "source": [
    "accuracy_score(y_test, y_hat)"
   ]
  },
  {
   "cell_type": "markdown",
   "metadata": {},
   "source": [
    "# 4. Saving and Reloading"
   ]
  },
  {
   "cell_type": "code",
   "execution_count": 13,
   "metadata": {
    "collapsed": true
   },
   "outputs": [
    {
     "name": "stdout",
     "output_type": "stream",
     "text": [
      "INFO:tensorflow:Assets written to: tfmodel\\assets\n"
     ]
    },
    {
     "name": "stderr",
     "output_type": "stream",
     "text": [
      "INFO:tensorflow:Assets written to: tfmodel\\assets\n"
     ]
    }
   ],
   "source": [
    "model.save('tfmodel')"
   ]
  },
  {
   "cell_type": "code",
   "execution_count": 14,
   "metadata": {},
   "outputs": [],
   "source": [
    "del model "
   ]
  },
  {
   "cell_type": "code",
   "execution_count": 15,
   "metadata": {},
   "outputs": [],
   "source": [
    "model = load_model('tfmodel')"
   ]
  },
  {
   "cell_type": "code",
   "execution_count": null,
   "metadata": {},
   "outputs": [],
   "source": []
  }
 ],
 "metadata": {
  "kernelspec": {
   "display_name": "Python 3",
   "language": "python",
   "name": "python3"
  },
  "language_info": {
   "codemirror_mode": {
    "name": "ipython",
    "version": 3
   },
   "file_extension": ".py",
   "mimetype": "text/x-python",
   "name": "python",
   "nbconvert_exporter": "python",
   "pygments_lexer": "ipython3",
   "version": "3.9.13"
  }
 },
 "nbformat": 4,
 "nbformat_minor": 2
}
