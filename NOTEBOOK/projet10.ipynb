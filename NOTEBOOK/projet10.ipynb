{
 "cells": [
  {
   "cell_type": "markdown",
   "metadata": {},
   "source": [
    "# Import"
   ]
  },
  {
   "cell_type": "code",
   "execution_count": 162,
   "metadata": {},
   "outputs": [],
   "source": [
    "import pandas as pd\n",
    "from sklearn.model_selection import train_test_split\n",
    "from sklearn.linear_model import LogisticRegression\n",
    "from sklearn.metrics import accuracy_score\n",
    "from sklearn.cluster import KMeans\n",
    "from sklearn.metrics import recall_score, precision_score, f1_score, confusion_matrix, roc_curve, roc_auc_score\n",
    "from sklearn.metrics import confusion_matrix\n",
    "import seaborn as sns\n",
    "import matplotlib.pyplot as plt\n",
    "from sklearn.metrics import roc_curve, roc_auc_score\n",
    "\n",
    "# Charger les données à partir d'un fichier CSV\n",
    "data = pd.read_csv('billets.csv', delimiter=';')"
   ]
  },
  {
   "cell_type": "markdown",
   "metadata": {},
   "source": [
    "# Etude fichier"
   ]
  },
  {
   "cell_type": "code",
   "execution_count": 163,
   "metadata": {},
   "outputs": [
    {
     "data": {
      "text/plain": [
       "is_genuine       0\n",
       "diagonal         0\n",
       "height_left      0\n",
       "height_right     0\n",
       "margin_low      37\n",
       "margin_up        0\n",
       "length           0\n",
       "dtype: int64"
      ]
     },
     "execution_count": 163,
     "metadata": {},
     "output_type": "execute_result"
    }
   ],
   "source": [
    "data.isna().sum()"
   ]
  },
  {
   "cell_type": "code",
   "execution_count": 198,
   "metadata": {},
   "outputs": [],
   "source": [
    "mean_margin_low = data['margin_low'].mean()\n",
    "data['margin_low'].fillna(mean_margin_low, inplace=True)"
   ]
  },
  {
   "cell_type": "code",
   "execution_count": 199,
   "metadata": {},
   "outputs": [
    {
     "data": {
      "text/plain": [
       "is_genuine      0\n",
       "diagonal        0\n",
       "height_left     0\n",
       "height_right    0\n",
       "margin_low      0\n",
       "margin_up       0\n",
       "length          0\n",
       "dtype: int64"
      ]
     },
     "execution_count": 199,
     "metadata": {},
     "output_type": "execute_result"
    }
   ],
   "source": [
    "data.isna().sum()"
   ]
  },
  {
   "cell_type": "code",
   "execution_count": 165,
   "metadata": {},
   "outputs": [
    {
     "data": {
      "text/html": [
       "<div>\n",
       "<style scoped>\n",
       "    .dataframe tbody tr th:only-of-type {\n",
       "        vertical-align: middle;\n",
       "    }\n",
       "\n",
       "    .dataframe tbody tr th {\n",
       "        vertical-align: top;\n",
       "    }\n",
       "\n",
       "    .dataframe thead th {\n",
       "        text-align: right;\n",
       "    }\n",
       "</style>\n",
       "<table border=\"1\" class=\"dataframe\">\n",
       "  <thead>\n",
       "    <tr style=\"text-align: right;\">\n",
       "      <th></th>\n",
       "      <th>is_genuine</th>\n",
       "      <th>diagonal</th>\n",
       "      <th>height_left</th>\n",
       "      <th>height_right</th>\n",
       "      <th>margin_low</th>\n",
       "      <th>margin_up</th>\n",
       "      <th>length</th>\n",
       "    </tr>\n",
       "  </thead>\n",
       "  <tbody>\n",
       "    <tr>\n",
       "      <th>0</th>\n",
       "      <td>True</td>\n",
       "      <td>171.81</td>\n",
       "      <td>104.86</td>\n",
       "      <td>104.95</td>\n",
       "      <td>4.52</td>\n",
       "      <td>2.89</td>\n",
       "      <td>112.83</td>\n",
       "    </tr>\n",
       "    <tr>\n",
       "      <th>1</th>\n",
       "      <td>True</td>\n",
       "      <td>171.46</td>\n",
       "      <td>103.36</td>\n",
       "      <td>103.66</td>\n",
       "      <td>3.77</td>\n",
       "      <td>2.99</td>\n",
       "      <td>113.09</td>\n",
       "    </tr>\n",
       "    <tr>\n",
       "      <th>2</th>\n",
       "      <td>True</td>\n",
       "      <td>172.69</td>\n",
       "      <td>104.48</td>\n",
       "      <td>103.50</td>\n",
       "      <td>4.40</td>\n",
       "      <td>2.94</td>\n",
       "      <td>113.16</td>\n",
       "    </tr>\n",
       "    <tr>\n",
       "      <th>3</th>\n",
       "      <td>True</td>\n",
       "      <td>171.36</td>\n",
       "      <td>103.91</td>\n",
       "      <td>103.94</td>\n",
       "      <td>3.62</td>\n",
       "      <td>3.01</td>\n",
       "      <td>113.51</td>\n",
       "    </tr>\n",
       "    <tr>\n",
       "      <th>4</th>\n",
       "      <td>True</td>\n",
       "      <td>171.73</td>\n",
       "      <td>104.28</td>\n",
       "      <td>103.46</td>\n",
       "      <td>4.04</td>\n",
       "      <td>3.48</td>\n",
       "      <td>112.54</td>\n",
       "    </tr>\n",
       "  </tbody>\n",
       "</table>\n",
       "</div>"
      ],
      "text/plain": [
       "   is_genuine  diagonal  height_left  height_right  margin_low  margin_up  \\\n",
       "0        True    171.81       104.86        104.95        4.52       2.89   \n",
       "1        True    171.46       103.36        103.66        3.77       2.99   \n",
       "2        True    172.69       104.48        103.50        4.40       2.94   \n",
       "3        True    171.36       103.91        103.94        3.62       3.01   \n",
       "4        True    171.73       104.28        103.46        4.04       3.48   \n",
       "\n",
       "   length  \n",
       "0  112.83  \n",
       "1  113.09  \n",
       "2  113.16  \n",
       "3  113.51  \n",
       "4  112.54  "
      ]
     },
     "execution_count": 165,
     "metadata": {},
     "output_type": "execute_result"
    }
   ],
   "source": [
    "data.head()"
   ]
  },
  {
   "cell_type": "code",
   "execution_count": 166,
   "metadata": {},
   "outputs": [
    {
     "data": {
      "text/plain": [
       "(1500, 7)"
      ]
     },
     "execution_count": 166,
     "metadata": {},
     "output_type": "execute_result"
    }
   ],
   "source": [
    "data.shape"
   ]
  },
  {
   "cell_type": "code",
   "execution_count": 200,
   "metadata": {},
   "outputs": [],
   "source": [
    "# Enlever les espaces dans les données\n",
    "for column in data.columns:\n",
    "    if data[column].dtype == 'object':\n",
    "        data[column] = data[column].str.strip()"
   ]
  },
  {
   "cell_type": "markdown",
   "metadata": {},
   "source": [
    "# Analyse descriptive"
   ]
  },
  {
   "cell_type": "code",
   "execution_count": 168,
   "metadata": {},
   "outputs": [
    {
     "name": "stdout",
     "output_type": "stream",
     "text": [
      "True     1000\n",
      "False     500\n",
      "Name: is_genuine, dtype: int64\n",
      "\n"
     ]
    },
    {
     "data": {
      "image/png": "[encoded data removed]",
      "text/plain": [
       "<Figure size 640x480 with 1 Axes>"
      ]
     },
     "metadata": {},
     "output_type": "display_data"
    }
   ],
   "source": [
    "#Nombre de vrais/faux billets :\n",
    "count = data['is_genuine'].value_counts()\n",
    "print(count)\n",
    "print()\n",
    "\n",
    "# Créer un graphique à barres avec des couleurs différentes pour les billets faux\n",
    "plt.bar(count.index, count.values, color=['blue', 'red'])\n",
    "\n",
    "# Ajouter des étiquettes d'axe et de titre\n",
    "plt.xlabel('Type de billet')\n",
    "plt.ylabel('Nombre de billets')\n",
    "plt.title('Répartition des billets')\n",
    "\n",
    "# Modifier la couleur de la barre correspondant aux billets faux\n",
    "plt.bar(count.index[1], count.values[1], color='red')\n",
    "\n",
    "# Afficher le graphique\n",
    "plt.show()\n"
   ]
  },
  {
   "cell_type": "code",
   "execution_count": 169,
   "metadata": {},
   "outputs": [
    {
     "name": "stdout",
     "output_type": "stream",
     "text": [
      "       diagonal  height_left  height_right  margin_low  margin_up    length\n",
      "count  1500.000     1500.000      1500.000    1500.000   1500.000  1500.000\n",
      "mean    171.958      104.030       103.920       4.486      3.151   112.679\n",
      "std       0.305        0.299         0.326       0.656      0.232     0.873\n",
      "min     171.040      103.140       102.820       2.980      2.270   109.490\n",
      "25%     171.750      103.820       103.710       4.030      2.990   112.030\n",
      "50%     171.960      104.040       103.920       4.330      3.140   112.960\n",
      "75%     172.170      104.230       104.150       4.860      3.310   113.340\n",
      "max     173.010      104.880       104.950       6.900      3.910   114.440\n"
     ]
    }
   ],
   "source": [
    "# Statistiques descriptives\n",
    "stats = data.drop('is_genuine', axis=1).describe().round(3)\n",
    "print(stats)"
   ]
  },
  {
   "cell_type": "code",
   "execution_count": 170,
   "metadata": {},
   "outputs": [
    {
     "data": {
      "image/png": "[encoded data removed]",
      "text/plain": [
       "<Figure size 1200x800 with 6 Axes>"
      ]
     },
     "metadata": {},
     "output_type": "display_data"
    }
   ],
   "source": [
    "# Sélectionner les colonnes de dimensions\n",
    "dimensions = ['diagonal', 'height_left', 'height_right', 'margin_low', 'margin_up', 'length']\n",
    "dimensions_data = data[dimensions]\n",
    "\n",
    "# Créer un subplot de 2x3 pour les histogrammes des dimensions\n",
    "fig, axes = plt.subplots(2, 3, figsize=(12, 8))\n",
    "\n",
    "# Parcourir les dimensions et créer les histogrammes correspondants\n",
    "for i, dim in enumerate(dimensions):\n",
    "    ax = axes[i // 3, i % 3]\n",
    "\n",
    "    # Séparer les données en fonction de la valeur de la colonne \"is_genuine\"\n",
    "    genuine_data = dimensions_data[data['is_genuine']]\n",
    "    fake_data = dimensions_data[~data['is_genuine']]\n",
    "\n",
    "    # Tracer les histogrammes pour les vrais billets en bleu et les faux billets en rouge\n",
    "    ax.hist(genuine_data[dim], bins=10, color='blue', alpha=0.5, label='Vrai')\n",
    "    ax.hist(fake_data[dim], bins=10, color='red', alpha=0.5, label='Faux')\n",
    "\n",
    "    ax.set_xlabel(dim)\n",
    "    ax.legend()\n",
    "\n",
    "# Ajuster l'espacement entre les sous-graphiques\n",
    "plt.tight_layout()\n",
    "\n",
    "# Afficher le graphique\n",
    "plt.show()\n"
   ]
  },
  {
   "cell_type": "markdown",
   "metadata": {},
   "source": [
    "# Modèle de régression"
   ]
  },
  {
   "cell_type": "code",
   "execution_count": 201,
   "metadata": {},
   "outputs": [],
   "source": [
    "# Séparer les caractéristiques (X) de la variable cible (y)\n",
    "X = data.drop('is_genuine', axis=1)\n",
    "y = data['is_genuine']\n",
    "\n",
    "# Diviser les données en ensembles d'entraînement et de test\n",
    "X_train, X_test, y_train, y_test = train_test_split(X, y, test_size=0.2, random_state=42)\n",
    "\n",
    "# Créer un modèle de régression logistique\n",
    "model = LogisticRegression()\n",
    "\n",
    "# Entraîner le modèle sur l'ensemble d'entraînement\n",
    "model.fit(X_train, y_train)\n",
    "\n",
    "# Faire des prédictions sur l'ensemble de test\n",
    "y_pred = model.predict(X_test)"
   ]
  },
  {
   "cell_type": "code",
   "execution_count": 172,
   "metadata": {},
   "outputs": [
    {
     "name": "stdout",
     "output_type": "stream",
     "text": [
      "Rappel : 1.00\n",
      "Le rappel mesure la capacité du modèle à identifier correctement les vrais positifs parmi tous les exemples positifs réels. \n",
      " Un rappel de 1.00 indique que le modèle a identifié tous les exemples positifs correctement.\n",
      "\n",
      "Précision : 0.98\n",
      "La précision mesure la proportion d'exemples positifs prédits correctement parmi tous les exemples positifs prédits. \n",
      " Une précision de 0.98 indique que le modèle a une grande précision dans ses prédictions positives.\n",
      "\n",
      "F-mesure : 0.99\n",
      "La F-mesure combine à la fois la précision et le rappel en une seule métrique. \n",
      " Une F-mesure de 0.99 indique un équilibre entre la précision et le rappel du modèle.\n",
      "\n",
      "Matrice de confusion :\n",
      "[[107   3]\n",
      " [  0 190]]\n",
      "La matrice de confusion permet de visualiser les performances du modèle en termes de vrais positifs, faux positifs, vrais négatifs et faux négatifs. \n",
      " Dans ce cas, le modèle a prédit 107 vrais négatifs, 3 faux positifs, 0 faux négatifs et 190 vrais positifs.\n",
      "\n",
      "Aire sous la courbe ROC (AUC) : 0.99\n",
      "L'aire sous la courbe ROC (AUC) mesure la capacité du modèle à distinguer les classes positives et négatives en fonction du seuil de classification. \n",
      " Une AUC de 0.99 indique que le modèle a une très bonne capacité de discrimination.\n"
     ]
    }
   ],
   "source": [
    "# Calculer le rappel\n",
    "recall = recall_score(y_test, y_pred)\n",
    "print(\"Rappel : {:.2f}\".format(recall))\n",
    "print(\"Le rappel mesure la capacité du modèle à identifier correctement les vrais positifs parmi tous les exemples positifs réels. \\n Un rappel de 1.00 indique que le modèle a identifié tous les exemples positifs correctement.\")\n",
    "print()\n",
    "\n",
    "# Calculer la précision\n",
    "precision = precision_score(y_test, y_pred)\n",
    "print(\"Précision : {:.2f}\".format(precision))\n",
    "print(\"La précision mesure la proportion d'exemples positifs prédits correctement parmi tous les exemples positifs prédits. \\n Une précision de 0.98 indique que le modèle a une grande précision dans ses prédictions positives.\")\n",
    "print()\n",
    "\n",
    "# Calculer la F-mesure\n",
    "f1 = f1_score(y_test, y_pred)\n",
    "print(\"F-mesure : {:.2f}\".format(f1))\n",
    "print(\"La F-mesure combine à la fois la précision et le rappel en une seule métrique. \\n Une F-mesure de 0.99 indique un équilibre entre la précision et le rappel du modèle.\")\n",
    "print()\n",
    "\n",
    "# Calculer la matrice de confusion\n",
    "confusion = confusion_matrix(y_test, y_pred)\n",
    "print(\"Matrice de confusion :\")\n",
    "print(confusion)\n",
    "print(\"La matrice de confusion permet de visualiser les performances du modèle en termes de vrais positifs, faux positifs, vrais négatifs et faux négatifs. \\n Dans ce cas, le modèle a prédit 107 vrais négatifs, 3 faux positifs, 0 faux négatifs et 190 vrais positifs.\")\n",
    "print()\n",
    "\n",
    "# Calculer la courbe ROC et l'aire sous la courbe ROC (AUC)\n",
    "fpr, tpr, thresholds = roc_curve(y_test, y_pred)\n",
    "auc = roc_auc_score(y_test, y_pred)\n",
    "print(\"Aire sous la courbe ROC (AUC) : {:.2f}\".format(auc))\n",
    "print(\"L'aire sous la courbe ROC (AUC) mesure la capacité du modèle à distinguer les classes positives et négatives en fonction du seuil de classification. \\n Une AUC de 0.99 indique que le modèle a une très bonne capacité de discrimination.\")\n"
   ]
  },
  {
   "cell_type": "markdown",
   "metadata": {},
   "source": [
    "## Matrice de confusion"
   ]
  },
  {
   "cell_type": "code",
   "execution_count": 202,
   "metadata": {},
   "outputs": [
    {
     "data": {
      "image/png": "[encoded data removed]",
      "text/plain": [
       "<Figure size 600x400 with 2 Axes>"
      ]
     },
     "metadata": {},
     "output_type": "display_data"
    }
   ],
   "source": [
    "# Créer un heatmap de la matrice de confusion\n",
    "plt.figure(figsize=(6, 4))\n",
    "sns.heatmap(confusion, annot=True, fmt='d', cmap='Blues')\n",
    "plt.title('Matrice de confusion')\n",
    "plt.xlabel('Prédiction')\n",
    "plt.ylabel('Vraie valeur')\n",
    "plt.show()"
   ]
  },
  {
   "cell_type": "markdown",
   "metadata": {},
   "source": [
    "La matrice de confusion montre les résultats de classification du modèle pour chaque classe. Le modèle a prédit correctement 107 vrais billets et 190 faux billets. Il y a eu 3 faux positifs (des billets prédits comme vrais mais qui sont faux) et aucun faux négatif (pas de billets faux prédits comme vrais)."
   ]
  },
  {
   "cell_type": "markdown",
   "metadata": {},
   "source": [
    "## Corube ROC"
   ]
  },
  {
   "cell_type": "code",
   "execution_count": 174,
   "metadata": {},
   "outputs": [
    {
     "data": {
      "image/png": "[encoded data removed]",
      "text/plain": [
       "<Figure size 640x480 with 1 Axes>"
      ]
     },
     "metadata": {},
     "output_type": "display_data"
    }
   ],
   "source": [
    "# Calculer la courbe ROC\n",
    "fpr, tpr, thresholds = roc_curve(y_test, y_pred)\n",
    "auc = roc_auc_score(y_test, y_pred)\n",
    "\n",
    "# Tracer la courbe ROC\n",
    "plt.plot(fpr, tpr, label='Courbe ROC (AUC = {:.2f})'.format(auc))\n",
    "plt.plot([0, 1], [0, 1], 'k--', label='Aléatoire')\n",
    "plt.xlabel('Taux de faux positifs')\n",
    "plt.ylabel('Taux de vrais positifs')\n",
    "plt.title('Courbe ROC')\n",
    "plt.legend(loc='lower right')\n",
    "plt.show()"
   ]
  },
  {
   "cell_type": "markdown",
   "metadata": {},
   "source": [
    "# Kmeans"
   ]
  },
  {
   "cell_type": "code",
   "execution_count": 175,
   "metadata": {},
   "outputs": [],
   "source": [
    "# Séparer les caractéristiques (X) de la variable cible (y)\n",
    "X_train, X_test, y_train, y_test = train_test_split(X, y, test_size=0.2, random_state=42)"
   ]
  },
  {
   "cell_type": "code",
   "execution_count": 203,
   "metadata": {},
   "outputs": [
    {
     "name": "stdout",
     "output_type": "stream",
     "text": [
      "Précision du K-means : 2.00%\n"
     ]
    },
    {
     "name": "stderr",
     "output_type": "stream",
     "text": [
      "c:\\Users\\antoi\\anaconda3\\Nouveau dossier\\lib\\site-packages\\sklearn\\cluster\\_kmeans.py:1412: FutureWarning: The default value of `n_init` will change from 10 to 'auto' in 1.4. Set the value of `n_init` explicitly to suppress the warning\n",
      "  super()._check_params_vs_input(X, default_n_init=10)\n"
     ]
    }
   ],
   "source": [
    "# Créer et entraîner le modèle K-means avec 2 clusters pour identifier les deux types de billets (vrai/faux)\n",
    "kmeans_model = KMeans(n_clusters=2, random_state=42)\n",
    "kmeans_model.fit(X_train)\n",
    "\n",
    "# Obtenir les centroïdes des clusters\n",
    "centroids = kmeans_model.cluster_centers_\n",
    "\n",
    "# Faire des prédictions sur l'ensemble de test en utilisant le modèle K-means\n",
    "kmeans_predictions = kmeans_model.predict(X_test)\n",
    "\n",
    "# Calculer la précision du modèle K-means\n",
    "kmeans_accuracy = accuracy_score(y_test, kmeans_predictions)\n",
    "\n",
    "# Afficher la précision du modèle K-means\n",
    "print(\"Précision du K-means : {:.2f}%\".format(kmeans_accuracy * 100))"
   ]
  },
  {
   "cell_type": "markdown",
   "metadata": {},
   "source": [
    "Le résultat affiché est \"Précision du K-means : 2.00%\". Cela signifie que le modèle K-means a une précision de 2,00%, ce qui est relativement faible. Une précision aussi faible indique que le modèle ne parvient pas à bien identifier les deux types de billets (vrai/faux) dans votre ensemble de données."
   ]
  },
  {
   "cell_type": "markdown",
   "metadata": {},
   "source": [
    "# Test avec le fichier type présentation"
   ]
  },
  {
   "cell_type": "code",
   "execution_count": 181,
   "metadata": {},
   "outputs": [],
   "source": [
    "# Import fichier csv\n",
    "dft = pd.read_csv('fichiertype.csv')"
   ]
  },
  {
   "cell_type": "code",
   "execution_count": 182,
   "metadata": {},
   "outputs": [],
   "source": [
    "# suppression de la colonne inutile pour la prédiction\n",
    "dft = dft.drop('id', axis=1)"
   ]
  },
  {
   "cell_type": "code",
   "execution_count": 183,
   "metadata": {},
   "outputs": [
    {
     "data": {
      "text/plain": [
       "diagonal        0\n",
       "height_left     0\n",
       "height_right    0\n",
       "margin_low      0\n",
       "margin_up       0\n",
       "length          0\n",
       "dtype: int64"
      ]
     },
     "execution_count": 183,
     "metadata": {},
     "output_type": "execute_result"
    }
   ],
   "source": [
    "# Vérification du fichier pour savoir si il contient des null\n",
    "dft.isnull().sum()"
   ]
  },
  {
   "cell_type": "code",
   "execution_count": 184,
   "metadata": {},
   "outputs": [
    {
     "name": "stdout",
     "output_type": "stream",
     "text": [
      "       diagonal  height_left  height_right  margin_low  margin_up   length\n",
      "count     5.000        5.000         5.000       5.000      5.000    5.000\n",
      "mean    171.954      104.188       103.972       4.882      3.238  112.322\n",
      "std       0.327        0.396         0.393       0.837      0.143    0.897\n",
      "min     171.650      103.630       103.540       3.770      3.030  111.420\n",
      "25%     171.760      104.010       103.560       4.440      3.160  111.570\n",
      "50%     171.870      104.170       104.130       4.990      3.300  112.090\n",
      "75%     172.000      104.550       104.290       5.210      3.310  113.200\n",
      "max     172.490      104.580       104.340       6.000      3.390  113.330\n"
     ]
    }
   ],
   "source": [
    "# Statistiques descriptives\n",
    "stats = dft.describe().round(3)\n",
    "print(stats)"
   ]
  },
  {
   "cell_type": "code",
   "execution_count": 185,
   "metadata": {},
   "outputs": [
    {
     "data": {
      "image/png": "[encoded data removed]",
      "text/plain": [
       "<Figure size 1200x800 with 6 Axes>"
      ]
     },
     "metadata": {},
     "output_type": "display_data"
    }
   ],
   "source": [
    "# Sélectionner les colonnes de dimensions\n",
    "dimensions = ['diagonal', 'height_left', 'height_right', 'margin_low', 'margin_up', 'length']\n",
    "dimensions_data = stats[dimensions]\n",
    "\n",
    "# Créer un subplot de 2x3 pour les histogrammes des dimensions\n",
    "fig, axes = plt.subplots(2, 3, figsize=(12, 8))\n",
    "\n",
    "# Parcourir les dimensions et créer les histogrammes correspondants\n",
    "for i, dim in enumerate(dimensions):\n",
    "    ax = axes[i // 3, i % 3]\n",
    "\n",
    "    # Tracer l'histogramme en bleu pour chaque dimension\n",
    "    ax.hist(dimensions_data[dim], bins=10, color='blue')\n",
    "\n",
    "    ax.set_xlabel(dim)\n",
    "\n",
    "# Ajuster l'espacement entre les sous-graphiques\n",
    "plt.tight_layout()\n",
    "\n",
    "# Afficher le graphique\n",
    "plt.show()"
   ]
  },
  {
   "cell_type": "code",
   "execution_count": 186,
   "metadata": {},
   "outputs": [
    {
     "name": "stdout",
     "output_type": "stream",
     "text": [
      "   is_genuine\n",
      "0       False\n",
      "1       False\n",
      "2       False\n",
      "3        True\n",
      "4        True\n"
     ]
    }
   ],
   "source": [
    "y_pred = model.predict(dft)\n",
    "\n",
    "#Résultat de la prédiction\n",
    "dft['is_genuine'] = y_pred\n",
    "print(dft[['is_genuine']])"
   ]
  },
  {
   "cell_type": "markdown",
   "metadata": {},
   "source": [
    "# Tensorflow"
   ]
  },
  {
   "cell_type": "code",
   "execution_count": 187,
   "metadata": {},
   "outputs": [],
   "source": [
    "import pandas as pd\n",
    "import tensorflow as tf\n",
    "from sklearn.model_selection import train_test_split\n",
    "import numpy as np\n",
    "\n",
    "# Charger les données à partir du fichier CSV\n",
    "data = pd.read_csv('billets.csv', delimiter=';')"
   ]
  },
  {
   "cell_type": "code",
   "execution_count": 188,
   "metadata": {},
   "outputs": [
    {
     "data": {
      "text/html": [
       "<div>\n",
       "<style scoped>\n",
       "    .dataframe tbody tr th:only-of-type {\n",
       "        vertical-align: middle;\n",
       "    }\n",
       "\n",
       "    .dataframe tbody tr th {\n",
       "        vertical-align: top;\n",
       "    }\n",
       "\n",
       "    .dataframe thead th {\n",
       "        text-align: right;\n",
       "    }\n",
       "</style>\n",
       "<table border=\"1\" class=\"dataframe\">\n",
       "  <thead>\n",
       "    <tr style=\"text-align: right;\">\n",
       "      <th></th>\n",
       "      <th>is_genuine</th>\n",
       "      <th>diagonal</th>\n",
       "      <th>height_left</th>\n",
       "      <th>height_right</th>\n",
       "      <th>margin_low</th>\n",
       "      <th>margin_up</th>\n",
       "      <th>length</th>\n",
       "    </tr>\n",
       "  </thead>\n",
       "  <tbody>\n",
       "    <tr>\n",
       "      <th>0</th>\n",
       "      <td>True</td>\n",
       "      <td>171.81</td>\n",
       "      <td>104.86</td>\n",
       "      <td>104.95</td>\n",
       "      <td>4.52</td>\n",
       "      <td>2.89</td>\n",
       "      <td>112.83</td>\n",
       "    </tr>\n",
       "    <tr>\n",
       "      <th>1</th>\n",
       "      <td>True</td>\n",
       "      <td>171.46</td>\n",
       "      <td>103.36</td>\n",
       "      <td>103.66</td>\n",
       "      <td>3.77</td>\n",
       "      <td>2.99</td>\n",
       "      <td>113.09</td>\n",
       "    </tr>\n",
       "    <tr>\n",
       "      <th>2</th>\n",
       "      <td>True</td>\n",
       "      <td>172.69</td>\n",
       "      <td>104.48</td>\n",
       "      <td>103.50</td>\n",
       "      <td>4.40</td>\n",
       "      <td>2.94</td>\n",
       "      <td>113.16</td>\n",
       "    </tr>\n",
       "    <tr>\n",
       "      <th>3</th>\n",
       "      <td>True</td>\n",
       "      <td>171.36</td>\n",
       "      <td>103.91</td>\n",
       "      <td>103.94</td>\n",
       "      <td>3.62</td>\n",
       "      <td>3.01</td>\n",
       "      <td>113.51</td>\n",
       "    </tr>\n",
       "    <tr>\n",
       "      <th>4</th>\n",
       "      <td>True</td>\n",
       "      <td>171.73</td>\n",
       "      <td>104.28</td>\n",
       "      <td>103.46</td>\n",
       "      <td>4.04</td>\n",
       "      <td>3.48</td>\n",
       "      <td>112.54</td>\n",
       "    </tr>\n",
       "  </tbody>\n",
       "</table>\n",
       "</div>"
      ],
      "text/plain": [
       "   is_genuine  diagonal  height_left  height_right  margin_low  margin_up  \\\n",
       "0        True    171.81       104.86        104.95        4.52       2.89   \n",
       "1        True    171.46       103.36        103.66        3.77       2.99   \n",
       "2        True    172.69       104.48        103.50        4.40       2.94   \n",
       "3        True    171.36       103.91        103.94        3.62       3.01   \n",
       "4        True    171.73       104.28        103.46        4.04       3.48   \n",
       "\n",
       "   length  \n",
       "0  112.83  \n",
       "1  113.09  \n",
       "2  113.16  \n",
       "3  113.51  \n",
       "4  112.54  "
      ]
     },
     "execution_count": 188,
     "metadata": {},
     "output_type": "execute_result"
    }
   ],
   "source": [
    "data.head()"
   ]
  },
  {
   "cell_type": "code",
   "execution_count": 189,
   "metadata": {},
   "outputs": [],
   "source": [
    "X = data.drop('is_genuine', axis=1)"
   ]
  },
  {
   "cell_type": "code",
   "execution_count": 190,
   "metadata": {},
   "outputs": [],
   "source": [
    "\n",
    "# Séparer les caractéristiques (X) et les étiquettes (y)\n",
    "X = data.iloc[:, 1:].values\n",
    "y = data.iloc[:, 0].values"
   ]
  },
  {
   "cell_type": "code",
   "execution_count": 191,
   "metadata": {},
   "outputs": [],
   "source": [
    "# Diviser les données en ensembles d'entraînement et de test\n",
    "X_train, X_test, y_train, y_test = train_test_split(X, y, test_size=0.2, random_state=42)"
   ]
  },
  {
   "cell_type": "code",
   "execution_count": 192,
   "metadata": {},
   "outputs": [],
   "source": [
    "# Définition du modèle\n",
    "model = tf.keras.models.Sequential([\n",
    "    tf.keras.layers.Dense(64, activation='relu', input_shape=(6,)),\n",
    "    tf.keras.layers.Dropout(0.2),\n",
    "    tf.keras.layers.Dense(32, activation='relu'),\n",
    "    tf.keras.layers.Dense(1, activation='sigmoid')\n",
    "])"
   ]
  },
  {
   "cell_type": "code",
   "execution_count": 193,
   "metadata": {},
   "outputs": [],
   "source": [
    "# Compilation du modèle\n",
    "model.compile(optimizer='adam',\n",
    "              loss='binary_crossentropy',\n",
    "              metrics=['accuracy'])"
   ]
  },
  {
   "cell_type": "code",
   "execution_count": 194,
   "metadata": {},
   "outputs": [
    {
     "name": "stdout",
     "output_type": "stream",
     "text": [
      "Epoch 1/20\n"
     ]
    },
    {
     "name": "stdout",
     "output_type": "stream",
     "text": [
      "38/38 [==============================] - 1s 978us/step - loss: nan - accuracy: 0.3275\n",
      "Epoch 2/20\n",
      "38/38 [==============================] - 0s 1ms/step - loss: nan - accuracy: 0.3250\n",
      "Epoch 3/20\n",
      "38/38 [==============================] - 0s 1ms/step - loss: nan - accuracy: 0.3250\n",
      "Epoch 4/20\n",
      "38/38 [==============================] - 0s 2ms/step - loss: nan - accuracy: 0.3250\n",
      "Epoch 5/20\n",
      "38/38 [==============================] - 0s 1ms/step - loss: nan - accuracy: 0.3250\n",
      "Epoch 6/20\n",
      "38/38 [==============================] - 0s 1ms/step - loss: nan - accuracy: 0.3250\n",
      "Epoch 7/20\n",
      "38/38 [==============================] - 0s 1ms/step - loss: nan - accuracy: 0.3250\n",
      "Epoch 8/20\n",
      "38/38 [==============================] - 0s 1ms/step - loss: nan - accuracy: 0.3250\n",
      "Epoch 9/20\n",
      "38/38 [==============================] - 0s 1ms/step - loss: nan - accuracy: 0.3250\n",
      "Epoch 10/20\n",
      "38/38 [==============================] - 0s 1ms/step - loss: nan - accuracy: 0.3250\n",
      "Epoch 11/20\n",
      "38/38 [==============================] - 0s 1ms/step - loss: nan - accuracy: 0.3250\n",
      "Epoch 12/20\n",
      "38/38 [==============================] - 0s 1ms/step - loss: nan - accuracy: 0.3250\n",
      "Epoch 13/20\n",
      "38/38 [==============================] - 0s 1ms/step - loss: nan - accuracy: 0.3250\n",
      "Epoch 14/20\n",
      "38/38 [==============================] - 0s 1ms/step - loss: nan - accuracy: 0.3250\n",
      "Epoch 15/20\n",
      "38/38 [==============================] - 0s 1ms/step - loss: nan - accuracy: 0.3250\n",
      "Epoch 16/20\n",
      "38/38 [==============================] - 0s 1ms/step - loss: nan - accuracy: 0.3250\n",
      "Epoch 17/20\n",
      "38/38 [==============================] - 0s 1ms/step - loss: nan - accuracy: 0.3250\n",
      "Epoch 18/20\n",
      "38/38 [==============================] - 0s 2ms/step - loss: nan - accuracy: 0.3250\n",
      "Epoch 19/20\n",
      "38/38 [==============================] - 0s 1ms/step - loss: nan - accuracy: 0.3250\n",
      "Epoch 20/20\n",
      "38/38 [==============================] - 0s 1ms/step - loss: nan - accuracy: 0.3250\n"
     ]
    },
    {
     "data": {
      "text/plain": [
       "<keras.src.callbacks.History at 0x2932f01c340>"
      ]
     },
     "execution_count": 194,
     "metadata": {},
     "output_type": "execute_result"
    }
   ],
   "source": [
    "# Entraînement du modèle\n",
    "model.fit(X_train, y_train, epochs=20, batch_size=32, verbose=1)\n"
   ]
  },
  {
   "cell_type": "code",
   "execution_count": 195,
   "metadata": {},
   "outputs": [
    {
     "name": "stdout",
     "output_type": "stream",
     "text": [
      "10/10 [==============================] - 0s 1ms/step - loss: nan - accuracy: 0.3667\n",
      "Test Loss: nan\n",
      "Test Accuracy: 0.36666667461395264\n"
     ]
    }
   ],
   "source": [
    "# Évaluation du modèle\n",
    "loss, accuracy = model.evaluate(X_test, y_test, verbose=1)\n",
    "print('Test Loss:', loss)\n",
    "print('Test Accuracy:', accuracy)"
   ]
  },
  {
   "cell_type": "code",
   "execution_count": 196,
   "metadata": {},
   "outputs": [
    {
     "name": "stdout",
     "output_type": "stream",
     "text": [
      "WARNING:tensorflow:5 out of the last 5 calls to <function Model.make_predict_function.<locals>.predict_function at 0x0000029339B70550> triggered tf.function retracing. Tracing is expensive and the excessive number of tracings could be due to (1) creating @tf.function repeatedly in a loop, (2) passing tensors with different shapes, (3) passing Python objects instead of tensors. For (1), please define your @tf.function outside of the loop. For (2), @tf.function has reduce_retracing=True option that can avoid unnecessary retracing. For (3), please refer to https://www.tensorflow.org/guide/function#controlling_retracing and https://www.tensorflow.org/api_docs/python/tf/function for  more details.\n",
      "1/1 [==============================] - 0s 106ms/step\n",
      "Predictions: [[nan]\n",
      " [nan]]\n"
     ]
    }
   ],
   "source": [
    "# Prédiction sur de nouvelles données\n",
    "new_data = np.array([[171.81, 104.86, 104.95, 4.52, 2.89, 112.83], [171.46, 103.36, 103.66, 3.77, 2.99, 113.09]])\n",
    "predictions = model.predict(new_data)\n",
    "print('Predictions:', predictions)\n"
   ]
  },
  {
   "cell_type": "code",
   "execution_count": null,
   "metadata": {},
   "outputs": [],
   "source": []
  }
 ],
 "metadata": {
  "kernelspec": {
   "display_name": "Python 3",
   "language": "python",
   "name": "python3"
  },
  "language_info": {
   "codemirror_mode": {
    "name": "ipython",
    "version": 3
   },
   "file_extension": ".py",
   "mimetype": "text/x-python",
   "name": "python",
   "nbconvert_exporter": "python",
   "pygments_lexer": "ipython3",
   "version": "3.9.13"
  },
  "orig_nbformat": 4
 },
 "nbformat": 4,
 "nbformat_minor": 2
}
